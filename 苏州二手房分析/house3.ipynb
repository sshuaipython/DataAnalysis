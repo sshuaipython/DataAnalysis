{
 "cells": [
  {
   "cell_type": "code",
   "execution_count": 3,
   "metadata": {},
   "outputs": [
    {
     "name": "stdout",
     "output_type": "stream",
     "text": [
      "        小区名称     总价 总价单位     单价  单价单位    户型   楼层   朝向        面积      年份    区域  \\\n",
      "0   世茂运河城尚运苑  368.0    万  26958  元/平米  3室2厅  低楼层  南 北  136.51平米    未知年建    姑苏   \n",
      "1     阳光水榭花园  190.0    万  21215  元/平米  2室1厅  中楼层    南   89.56平米  2006年建    吴中   \n",
      "2     湖岸名家南区  155.0    万  20946  元/平米  2室2厅  低楼层    南      74平米  2007年建    吴中   \n",
      "3       香城颐园  200.0    万  22334  元/平米  2室2厅  低楼层  南 北   89.55平米  2012年建    相城   \n",
      "4  雅戈尔YAKR公馆  440.0    万  41084  元/平米  2室2厅  高楼层    南   107.1平米  2008年建  工业园区   \n",
      "\n",
      "     地点  \n",
      "0  沧浪新城  \n",
      "1    城南  \n",
      "2    郭巷  \n",
      "3    元和  \n",
      "4    玲珑   (3000, 12)\n"
     ]
    }
   ],
   "source": [
    "import pandas as pd\n",
    "import numpy as np\n",
    "import matplotlib.pyplot as plt\n",
    "\n",
    "house=pd.read_csv('house.csv',engine='python',encoding='gbk',names=['小区名称','总价','总价单位','单价','单价单位','户型','楼层','朝向','面积','年份','区域','地点'])\n",
    "print(house.head(),house.shape)"
   ]
  },
  {
   "cell_type": "code",
   "execution_count": 4,
   "metadata": {},
   "outputs": [],
   "source": [
    "#删除异常楼层字段\n",
    "for i in range(len(house)):\n",
    "    if '共' in house['楼层'].loc[i]:\n",
    "        house = house.drop([i])\n",
    "house = house.reset_index(drop=True)"
   ]
  },
  {
   "cell_type": "code",
   "execution_count": 5,
   "metadata": {},
   "outputs": [],
   "source": [
    "#删除无朝向的字段\n",
    "for i in range(len(house)):\n",
    "    if '暂无' in house['朝向'].loc[i]:\n",
    "        house = house.drop([i])\n",
    "house = house.reset_index(drop=True)"
   ]
  },
  {
   "cell_type": "code",
   "execution_count": 6,
   "metadata": {},
   "outputs": [],
   "source": [
    "#删除未知年的字段\n",
    "for i in range(len(house)):\n",
    "    if '未知' in house['年份'].loc[i]:\n",
    "        house = house.drop([i])\n",
    "house = house.reset_index(drop=True)"
   ]
  },
  {
   "cell_type": "code",
   "execution_count": 7,
   "metadata": {},
   "outputs": [
    {
     "data": {
      "text/plain": [
       "(2726, 12)"
      ]
     },
     "execution_count": 7,
     "metadata": {},
     "output_type": "execute_result"
    }
   ],
   "source": [
    "house = house.drop_duplicates().reset_index(drop=True)\n",
    "house.shape"
   ]
  },
  {
   "cell_type": "code",
   "execution_count": 8,
   "metadata": {},
   "outputs": [],
   "source": [
    "if \"小区名称\" in house:\n",
    "    house=house.drop(['小区名称'],axis=1)\n",
    "if \"单价\" in house:\n",
    "    house=house.drop(['单价'],axis=1)\n",
    "if \"总价单位\" in house:\n",
    "    house=house.drop(['总价单位'],axis=1)\n",
    "if \"单价单位\" in house:\n",
    "    house=house.drop(['单价单位'],axis=1)"
   ]
  },
  {
   "cell_type": "code",
   "execution_count": 9,
   "metadata": {},
   "outputs": [
    {
     "data": {
      "text/html": [
       "<div>\n",
       "<style scoped>\n",
       "    .dataframe tbody tr th:only-of-type {\n",
       "        vertical-align: middle;\n",
       "    }\n",
       "\n",
       "    .dataframe tbody tr th {\n",
       "        vertical-align: top;\n",
       "    }\n",
       "\n",
       "    .dataframe thead th {\n",
       "        text-align: right;\n",
       "    }\n",
       "</style>\n",
       "<table border=\"1\" class=\"dataframe\">\n",
       "  <thead>\n",
       "    <tr style=\"text-align: right;\">\n",
       "      <th></th>\n",
       "      <th>总价</th>\n",
       "      <th>户型</th>\n",
       "      <th>楼层</th>\n",
       "      <th>朝向</th>\n",
       "      <th>面积</th>\n",
       "      <th>年份</th>\n",
       "      <th>区域</th>\n",
       "      <th>地点</th>\n",
       "    </tr>\n",
       "  </thead>\n",
       "  <tbody>\n",
       "    <tr>\n",
       "      <th>0</th>\n",
       "      <td>190.0</td>\n",
       "      <td>2室1厅</td>\n",
       "      <td>中楼层</td>\n",
       "      <td>南</td>\n",
       "      <td>89.56平米</td>\n",
       "      <td>2006年建</td>\n",
       "      <td>吴中</td>\n",
       "      <td>城南</td>\n",
       "    </tr>\n",
       "    <tr>\n",
       "      <th>1</th>\n",
       "      <td>155.0</td>\n",
       "      <td>2室2厅</td>\n",
       "      <td>低楼层</td>\n",
       "      <td>南</td>\n",
       "      <td>74平米</td>\n",
       "      <td>2007年建</td>\n",
       "      <td>吴中</td>\n",
       "      <td>郭巷</td>\n",
       "    </tr>\n",
       "    <tr>\n",
       "      <th>2</th>\n",
       "      <td>200.0</td>\n",
       "      <td>2室2厅</td>\n",
       "      <td>低楼层</td>\n",
       "      <td>南 北</td>\n",
       "      <td>89.55平米</td>\n",
       "      <td>2012年建</td>\n",
       "      <td>相城</td>\n",
       "      <td>元和</td>\n",
       "    </tr>\n",
       "    <tr>\n",
       "      <th>3</th>\n",
       "      <td>440.0</td>\n",
       "      <td>2室2厅</td>\n",
       "      <td>高楼层</td>\n",
       "      <td>南</td>\n",
       "      <td>107.1平米</td>\n",
       "      <td>2008年建</td>\n",
       "      <td>工业园区</td>\n",
       "      <td>玲珑</td>\n",
       "    </tr>\n",
       "    <tr>\n",
       "      <th>4</th>\n",
       "      <td>124.0</td>\n",
       "      <td>2室2厅</td>\n",
       "      <td>低楼层</td>\n",
       "      <td>东 西</td>\n",
       "      <td>94.91平米</td>\n",
       "      <td>2013年建</td>\n",
       "      <td>吴中</td>\n",
       "      <td>城南</td>\n",
       "    </tr>\n",
       "  </tbody>\n",
       "</table>\n",
       "</div>"
      ],
      "text/plain": [
       "      总价    户型   楼层   朝向       面积      年份    区域  地点\n",
       "0  190.0  2室1厅  中楼层    南  89.56平米  2006年建    吴中  城南\n",
       "1  155.0  2室2厅  低楼层    南     74平米  2007年建    吴中  郭巷\n",
       "2  200.0  2室2厅  低楼层  南 北  89.55平米  2012年建    相城  元和\n",
       "3  440.0  2室2厅  高楼层    南  107.1平米  2008年建  工业园区  玲珑\n",
       "4  124.0  2室2厅  低楼层  东 西  94.91平米  2013年建    吴中  城南"
      ]
     },
     "execution_count": 9,
     "metadata": {},
     "output_type": "execute_result"
    }
   ],
   "source": [
    "house.head()"
   ]
  },
  {
   "cell_type": "code",
   "execution_count": 10,
   "metadata": {},
   "outputs": [
    {
     "data": {
      "text/html": [
       "<div>\n",
       "<style scoped>\n",
       "    .dataframe tbody tr th:only-of-type {\n",
       "        vertical-align: middle;\n",
       "    }\n",
       "\n",
       "    .dataframe tbody tr th {\n",
       "        vertical-align: top;\n",
       "    }\n",
       "\n",
       "    .dataframe thead th {\n",
       "        text-align: right;\n",
       "    }\n",
       "</style>\n",
       "<table border=\"1\" class=\"dataframe\">\n",
       "  <thead>\n",
       "    <tr style=\"text-align: right;\">\n",
       "      <th></th>\n",
       "      <th>总价</th>\n",
       "      <th>户型</th>\n",
       "      <th>楼层</th>\n",
       "      <th>朝向</th>\n",
       "      <th>面积</th>\n",
       "      <th>年份</th>\n",
       "      <th>区域</th>\n",
       "      <th>地点</th>\n",
       "      <th>大小</th>\n",
       "    </tr>\n",
       "  </thead>\n",
       "  <tbody>\n",
       "    <tr>\n",
       "      <th>0</th>\n",
       "      <td>190.0</td>\n",
       "      <td>2室1厅</td>\n",
       "      <td>中楼层</td>\n",
       "      <td>南</td>\n",
       "      <td>89.56平米</td>\n",
       "      <td>2006年建</td>\n",
       "      <td>吴中</td>\n",
       "      <td>城南</td>\n",
       "      <td>89.56</td>\n",
       "    </tr>\n",
       "    <tr>\n",
       "      <th>1</th>\n",
       "      <td>155.0</td>\n",
       "      <td>2室2厅</td>\n",
       "      <td>低楼层</td>\n",
       "      <td>南</td>\n",
       "      <td>74平米</td>\n",
       "      <td>2007年建</td>\n",
       "      <td>吴中</td>\n",
       "      <td>郭巷</td>\n",
       "      <td>74</td>\n",
       "    </tr>\n",
       "    <tr>\n",
       "      <th>2</th>\n",
       "      <td>200.0</td>\n",
       "      <td>2室2厅</td>\n",
       "      <td>低楼层</td>\n",
       "      <td>南 北</td>\n",
       "      <td>89.55平米</td>\n",
       "      <td>2012年建</td>\n",
       "      <td>相城</td>\n",
       "      <td>元和</td>\n",
       "      <td>89.55</td>\n",
       "    </tr>\n",
       "    <tr>\n",
       "      <th>3</th>\n",
       "      <td>440.0</td>\n",
       "      <td>2室2厅</td>\n",
       "      <td>高楼层</td>\n",
       "      <td>南</td>\n",
       "      <td>107.1平米</td>\n",
       "      <td>2008年建</td>\n",
       "      <td>工业园区</td>\n",
       "      <td>玲珑</td>\n",
       "      <td>107.1</td>\n",
       "    </tr>\n",
       "    <tr>\n",
       "      <th>4</th>\n",
       "      <td>124.0</td>\n",
       "      <td>2室2厅</td>\n",
       "      <td>低楼层</td>\n",
       "      <td>东 西</td>\n",
       "      <td>94.91平米</td>\n",
       "      <td>2013年建</td>\n",
       "      <td>吴中</td>\n",
       "      <td>城南</td>\n",
       "      <td>94.91</td>\n",
       "    </tr>\n",
       "  </tbody>\n",
       "</table>\n",
       "</div>"
      ],
      "text/plain": [
       "      总价    户型   楼层   朝向       面积      年份    区域  地点     大小\n",
       "0  190.0  2室1厅  中楼层    南  89.56平米  2006年建    吴中  城南  89.56\n",
       "1  155.0  2室2厅  低楼层    南     74平米  2007年建    吴中  郭巷     74\n",
       "2  200.0  2室2厅  低楼层  南 北  89.55平米  2012年建    相城  元和  89.55\n",
       "3  440.0  2室2厅  高楼层    南  107.1平米  2008年建  工业园区  玲珑  107.1\n",
       "4  124.0  2室2厅  低楼层  东 西  94.91平米  2013年建    吴中  城南  94.91"
      ]
     },
     "execution_count": 10,
     "metadata": {},
     "output_type": "execute_result"
    }
   ],
   "source": [
    "area = house['面积'].copy()\n",
    "for i in range(len(area)):\n",
    "    area.iloc[i] = area.iloc[i].strip(\"平米\")\n",
    "house['大小']=area\n",
    "house.head()"
   ]
  },
  {
   "cell_type": "code",
   "execution_count": 11,
   "metadata": {},
   "outputs": [],
   "source": [
    "if \"面积\" in house:\n",
    "    house=house.drop(['面积'],axis=1)"
   ]
  },
  {
   "cell_type": "code",
   "execution_count": 12,
   "metadata": {},
   "outputs": [],
   "source": [
    "df1 = house['年份'].copy()\n",
    "year_now = 2019\n",
    "for i in range(len(df1)):\n",
    "    details = df1.iloc[i]\n",
    "    year_build = int(details.strip('年建'))\n",
    "    year_diff = year_now - year_build\n",
    "    if year_diff < 5:\n",
    "        df1.iloc[i] = '5年以内建造'\n",
    "    elif year_diff < 10:\n",
    "        df1.iloc[i] = '6-10年前建造'\n",
    "    elif year_diff < 15:\n",
    "        df1.iloc[i] = '11-15年前建造'\n",
    "    elif year_diff < 20:\n",
    "        df1.iloc[i] = '16-20年前建造'\n",
    "    else:\n",
    "        df1.iloc[i] = '超过20年前建造'\n",
    "house['年份']=df1"
   ]
  },
  {
   "cell_type": "code",
   "execution_count": 13,
   "metadata": {},
   "outputs": [],
   "source": [
    "#对数值字段进行标准化处理\n",
    "house['大小']=house['大小'].astype('float')\n",
    "house['总价']= (house['总价'] - house['总价'].mean()) / (house['总价'].std())\n",
    "house['大小']= (house['大小'] - house['大小'].mean()) / (house['大小'].std())"
   ]
  },
  {
   "cell_type": "code",
   "execution_count": 14,
   "metadata": {},
   "outputs": [
    {
     "name": "stdout",
     "output_type": "stream",
     "text": [
      "         总价    户型   楼层   朝向         年份    区域  地点        大小\n",
      "0 -0.649888  2室1厅  中楼层    南  11-15年前建造    吴中  城南 -0.623108\n",
      "1 -0.839060  2室2厅  低楼层    南  11-15年前建造    吴中  郭巷 -1.003166\n",
      "2 -0.595839  2室2厅  低楼层  南 北   6-10年前建造    相城  元和 -0.623352\n",
      "3  0.701342  2室2厅  高楼层    南  11-15年前建造  工业园区  玲珑 -0.194688\n",
      "4 -1.006613  2室2厅  低楼层  东 西   6-10年前建造    吴中  城南 -0.492433\n",
      "(2726, 8)\n"
     ]
    }
   ],
   "source": [
    "print(house.head())\n",
    "print(house.shape)"
   ]
  },
  {
   "cell_type": "code",
   "execution_count": 15,
   "metadata": {},
   "outputs": [],
   "source": [
    "house.to_excel(\"苏州房价数据处理结果3.xlsx\",columns = house.iloc[0].keys())"
   ]
  },
  {
   "cell_type": "code",
   "execution_count": null,
   "metadata": {},
   "outputs": [],
   "source": []
  }
 ],
 "metadata": {
  "kernelspec": {
   "display_name": "Python 3",
   "language": "python",
   "name": "python3"
  },
  "language_info": {
   "codemirror_mode": {
    "name": "ipython",
    "version": 3
   },
   "file_extension": ".py",
   "mimetype": "text/x-python",
   "name": "python",
   "nbconvert_exporter": "python",
   "pygments_lexer": "ipython3",
   "version": "3.6.4"
  }
 },
 "nbformat": 4,
 "nbformat_minor": 2
}
